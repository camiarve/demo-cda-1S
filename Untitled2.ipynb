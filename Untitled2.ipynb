{
  "nbformat": 4,
  "nbformat_minor": 0,
  "metadata": {
    "colab": {
      "name": "Untitled2.ipynb",
      "provenance": [],
      "authorship_tag": "ABX9TyNO7eZtaOsmDbc5UYyDK7AX",
      "include_colab_link": true
    },
    "kernelspec": {
      "name": "python3",
      "display_name": "Python 3"
    }
  },
  "cells": [
    {
      "cell_type": "markdown",
      "metadata": {
        "id": "view-in-github",
        "colab_type": "text"
      },
      "source": [
        "<a href=\"https://colab.research.google.com/github/camiarve/demo-cda-1S/blob/main/Untitled2.ipynb\" target=\"_parent\"><img src=\"https://colab.research.google.com/assets/colab-badge.svg\" alt=\"Open In Colab\"/></a>"
      ]
    },
    {
      "cell_type": "code",
      "metadata": {
        "colab": {
          "base_uri": "https://localhost:8080/"
        },
        "id": "pwL0OUD2wUIc",
        "outputId": "0ec210a9-eded-4e2f-e079-4598587fe296"
      },
      "source": [
        "def signo(x):\r\n",
        "    if x > 0:\r\n",
        "        resultado = 1\r\n",
        "    else:\r\n",
        "        if x == 0:\r\n",
        "          resultado = 0\r\n",
        "        else:\r\n",
        "            resultado = -1\r\n",
        "\r\n",
        "    return resultado\r\n",
        "  \r\n",
        "signo(10), signo(0), signo(-10)"
      ],
      "execution_count": 3,
      "outputs": [
        {
          "output_type": "execute_result",
          "data": {
            "text/plain": [
              "(1, 0, -1)"
            ]
          },
          "metadata": {
            "tags": []
          },
          "execution_count": 3
        }
      ]
    },
    {
      "cell_type": "code",
      "metadata": {
        "colab": {
          "base_uri": "https://localhost:8080/"
        },
        "id": "WhRtVCHJyJep",
        "outputId": "94a4218c-3515-4227-90ff-f5a3599c5bfc"
      },
      "source": [
        "def signo(x):\r\n",
        "    if x > 0:\r\n",
        "        resultado = 1\r\n",
        "    elif x == 0:\r\n",
        "          resultado = 0\r\n",
        "    else:\r\n",
        "          resultado = -1\r\n",
        "\r\n",
        "    return resultado\r\n",
        "  \r\n",
        "signo(10), signo(0), signo(-10)"
      ],
      "execution_count": 4,
      "outputs": [
        {
          "output_type": "execute_result",
          "data": {
            "text/plain": [
              "(1, 0, -1)"
            ]
          },
          "metadata": {
            "tags": []
          },
          "execution_count": 4
        }
      ]
    },
    {
      "cell_type": "code",
      "metadata": {
        "colab": {
          "base_uri": "https://localhost:8080/"
        },
        "id": "2fiQ1P8ZygDX",
        "outputId": "a787c771-a2b1-4eb3-8514-79bb46fca112"
      },
      "source": [
        "def signo(x):\r\n",
        "    if x > 0:\r\n",
        "      #este es un comentario\r\n",
        "      #de doslineas\r\n",
        "        return 1\r\n",
        "    elif x == 0:\r\n",
        "        return 0\r\n",
        "\r\n",
        "    return -1\r\n",
        "\r\n",
        "    return resultado\r\n",
        "\r\n",
        "signo(10), signo(0), signo(-10)"
      ],
      "execution_count": 7,
      "outputs": [
        {
          "output_type": "execute_result",
          "data": {
            "text/plain": [
              "(1, 0, -1)"
            ]
          },
          "metadata": {
            "tags": []
          },
          "execution_count": 7
        }
      ]
    },
    {
      "cell_type": "code",
      "metadata": {
        "colab": {
          "base_uri": "https://localhost:8080/"
        },
        "id": "7OhsPaXqyYtT",
        "outputId": "6182b4ca-34c9-4bb6-c6c7-315773be05ff"
      },
      "source": [
        "otra_variable = 1\r\n",
        "if otra_variable > 0:\r\n",
        "    x = 10\r\n",
        "else:\r\n",
        "    x=0\r\n",
        "\r\n",
        "x"
      ],
      "execution_count": 8,
      "outputs": [
        {
          "output_type": "execute_result",
          "data": {
            "text/plain": [
              "10"
            ]
          },
          "metadata": {
            "tags": []
          },
          "execution_count": 8
        }
      ]
    },
    {
      "cell_type": "code",
      "metadata": {
        "colab": {
          "base_uri": "https://localhost:8080/"
        },
        "id": "aJ0u3WYKzfKP",
        "outputId": "252a923b-d89a-4a2b-bb4f-1d9821934218"
      },
      "source": [
        "otra_variable = -1\r\n",
        "\r\n",
        "x = 10 if otra_variable > 0 else 0\r\n",
        "\r\n",
        "x"
      ],
      "execution_count": 9,
      "outputs": [
        {
          "output_type": "execute_result",
          "data": {
            "text/plain": [
              "0"
            ]
          },
          "metadata": {
            "tags": []
          },
          "execution_count": 9
        }
      ]
    },
    {
      "cell_type": "code",
      "metadata": {
        "colab": {
          "base_uri": "https://localhost:8080/"
        },
        "id": "GXK6CmH8z4YD",
        "outputId": "58aa0ac3-f390-4c9c-c52e-a8fcea9bccad"
      },
      "source": [
        "words = ['cat','window', 'door','abcdefg']\r\n",
        "\r\n",
        "for i in [0, 1, 2, 3]:\r\n",
        "    print(i)"
      ],
      "execution_count": 10,
      "outputs": [
        {
          "output_type": "stream",
          "text": [
            "0\n",
            "1\n",
            "2\n",
            "3\n"
          ],
          "name": "stdout"
        }
      ]
    },
    {
      "cell_type": "code",
      "metadata": {
        "colab": {
          "base_uri": "https://localhost:8080/"
        },
        "id": "yOvabVOb0Z7j",
        "outputId": "3ef4b78a-a0af-426e-8bcc-d8d1738c8c22"
      },
      "source": [
        "words = ['cat','window', 'door','abcdefg']\r\n",
        "\r\n",
        "for i in [0, 1, 2, 3]:\r\n",
        "    print(words[i])"
      ],
      "execution_count": 12,
      "outputs": [
        {
          "output_type": "stream",
          "text": [
            "cat\n",
            "window\n",
            "door\n",
            "abcdefg\n"
          ],
          "name": "stdout"
        }
      ]
    },
    {
      "cell_type": "code",
      "metadata": {
        "colab": {
          "base_uri": "https://localhost:8080/"
        },
        "id": "PG_Blo6Z0hxR",
        "outputId": "e5aa0e6c-6c41-48e3-b315-5d1c227a3154"
      },
      "source": [
        "for x in words:\r\n",
        "    print(x)"
      ],
      "execution_count": 14,
      "outputs": [
        {
          "output_type": "stream",
          "text": [
            "cat\n",
            "window\n",
            "door\n",
            "abcdefg\n"
          ],
          "name": "stdout"
        }
      ]
    },
    {
      "cell_type": "code",
      "metadata": {
        "colab": {
          "base_uri": "https://localhost:8080/"
        },
        "id": "tlqyFOGQ0o95",
        "outputId": "0616de45-c2ea-4ea9-8c99-d19f032888c0"
      },
      "source": [
        "for i in range(len(words)):\r\n",
        "    print(words[i])"
      ],
      "execution_count": 15,
      "outputs": [
        {
          "output_type": "stream",
          "text": [
            "cat\n",
            "window\n",
            "door\n",
            "abcdefg\n"
          ],
          "name": "stdout"
        }
      ]
    },
    {
      "cell_type": "code",
      "metadata": {
        "colab": {
          "base_uri": "https://localhost:8080/"
        },
        "id": "tD74aOnv0-7v",
        "outputId": "962e760d-75e8-4af8-8d96-baa921458c98"
      },
      "source": [
        "for i in range(10):\r\n",
        "    print(i)"
      ],
      "execution_count": 16,
      "outputs": [
        {
          "output_type": "stream",
          "text": [
            "0\n",
            "1\n",
            "2\n",
            "3\n",
            "4\n",
            "5\n",
            "6\n",
            "7\n",
            "8\n",
            "9\n"
          ],
          "name": "stdout"
        }
      ]
    },
    {
      "cell_type": "code",
      "metadata": {
        "colab": {
          "base_uri": "https://localhost:8080/"
        },
        "id": "Ibiwik6O1DJ2",
        "outputId": "4966f35e-7a0c-4840-bf0e-8f875a2a8ed0"
      },
      "source": [
        "for i in range(len(words)):\r\n",
        "    print(i, words[i])"
      ],
      "execution_count": 17,
      "outputs": [
        {
          "output_type": "stream",
          "text": [
            "0 cat\n",
            "1 window\n",
            "2 door\n",
            "3 abcdefg\n"
          ],
          "name": "stdout"
        }
      ]
    },
    {
      "cell_type": "code",
      "metadata": {
        "colab": {
          "base_uri": "https://localhost:8080/"
        },
        "id": "vd_SYsAd1O1m",
        "outputId": "1c1bdb82-c45d-45c5-e1b8-9fd6c15debcd"
      },
      "source": [
        "words = ['cat','window', 'door','abcdefg']\r\n",
        "x = words\r\n",
        "x[2] = '*****'\r\n",
        "words , x\r\n"
      ],
      "execution_count": 18,
      "outputs": [
        {
          "output_type": "execute_result",
          "data": {
            "text/plain": [
              "(['cat', 'window', '*****', 'abcdefg'], ['cat', 'window', '*****', 'abcdefg'])"
            ]
          },
          "metadata": {
            "tags": []
          },
          "execution_count": 18
        }
      ]
    },
    {
      "cell_type": "code",
      "metadata": {
        "colab": {
          "base_uri": "https://localhost:8080/"
        },
        "id": "a9vfZpIe1o1f",
        "outputId": "85c25dd2-771f-4cc7-b87d-accd42d9273f"
      },
      "source": [
        "words = ['cat','window', 'door','abcdefg']\r\n",
        "x = words[:]\r\n",
        "x[2] = '*****'\r\n",
        "words , x"
      ],
      "execution_count": 19,
      "outputs": [
        {
          "output_type": "execute_result",
          "data": {
            "text/plain": [
              "(['cat', 'window', 'door', 'abcdefg'], ['cat', 'window', '*****', 'abcdefg'])"
            ]
          },
          "metadata": {
            "tags": []
          },
          "execution_count": 19
        }
      ]
    },
    {
      "cell_type": "code",
      "metadata": {
        "colab": {
          "base_uri": "https://localhost:8080/"
        },
        "id": "i4jcItRr2A8k",
        "outputId": "7faf8d2d-692c-4e11-a7e8-7796624c4266"
      },
      "source": [
        "for i in range(5):\r\n",
        "    print(i)"
      ],
      "execution_count": 20,
      "outputs": [
        {
          "output_type": "stream",
          "text": [
            "0\n",
            "1\n",
            "2\n",
            "3\n",
            "4\n"
          ],
          "name": "stdout"
        }
      ]
    },
    {
      "cell_type": "code",
      "metadata": {
        "colab": {
          "base_uri": "https://localhost:8080/"
        },
        "id": "KXxxSJHA2H4T",
        "outputId": "b5bdea34-619c-4b36-d914-2e733eaea59b"
      },
      "source": [
        "range(5)"
      ],
      "execution_count": 21,
      "outputs": [
        {
          "output_type": "execute_result",
          "data": {
            "text/plain": [
              "range(0, 5)"
            ]
          },
          "metadata": {
            "tags": []
          },
          "execution_count": 21
        }
      ]
    },
    {
      "cell_type": "code",
      "metadata": {
        "colab": {
          "base_uri": "https://localhost:8080/"
        },
        "id": "leMBTDuW2KJn",
        "outputId": "001b6882-2d0c-4336-b41a-7aeaac35007a"
      },
      "source": [
        "list(range(5))"
      ],
      "execution_count": 22,
      "outputs": [
        {
          "output_type": "execute_result",
          "data": {
            "text/plain": [
              "[0, 1, 2, 3, 4]"
            ]
          },
          "metadata": {
            "tags": []
          },
          "execution_count": 22
        }
      ]
    },
    {
      "cell_type": "code",
      "metadata": {
        "colab": {
          "base_uri": "https://localhost:8080/"
        },
        "id": "o-IqPNLG2Mvz",
        "outputId": "e326e8ef-dfdb-4ff6-866d-b42f7d81211c"
      },
      "source": [
        "for i in range(5,10):\r\n",
        "    print(i)"
      ],
      "execution_count": 23,
      "outputs": [
        {
          "output_type": "stream",
          "text": [
            "5\n",
            "6\n",
            "7\n",
            "8\n",
            "9\n"
          ],
          "name": "stdout"
        }
      ]
    },
    {
      "cell_type": "code",
      "metadata": {
        "colab": {
          "base_uri": "https://localhost:8080/"
        },
        "id": "J1YVQJju2Y2C",
        "outputId": "3a7a225d-21b3-4bea-ebc3-4c3d41c461e6"
      },
      "source": [
        "for i in range(5,10):\r\n",
        "    print(i,end='-')"
      ],
      "execution_count": 25,
      "outputs": [
        {
          "output_type": "stream",
          "text": [
            "5-6-7-8-9-"
          ],
          "name": "stdout"
        }
      ]
    },
    {
      "cell_type": "code",
      "metadata": {
        "colab": {
          "base_uri": "https://localhost:8080/"
        },
        "id": "yIFmioPR2edq",
        "outputId": "098ac594-deea-4276-95f5-03551aa162dc"
      },
      "source": [
        "for i in range(5,10):\r\n",
        "    print(i, i+1)"
      ],
      "execution_count": 27,
      "outputs": [
        {
          "output_type": "stream",
          "text": [
            "5 6\n",
            "6 7\n",
            "7 8\n",
            "8 9\n",
            "9 10\n"
          ],
          "name": "stdout"
        }
      ]
    },
    {
      "cell_type": "code",
      "metadata": {
        "colab": {
          "base_uri": "https://localhost:8080/"
        },
        "id": "_sesRPoz2pzI",
        "outputId": "860279ec-2b8f-4c28-b6c6-4e8ce2923401"
      },
      "source": [
        "for i in range(5,10):\r\n",
        "    print(i, i+1, sep='-')"
      ],
      "execution_count": 28,
      "outputs": [
        {
          "output_type": "stream",
          "text": [
            "5-6\n",
            "6-7\n",
            "7-8\n",
            "8-9\n",
            "9-10\n"
          ],
          "name": "stdout"
        }
      ]
    },
    {
      "cell_type": "code",
      "metadata": {
        "colab": {
          "base_uri": "https://localhost:8080/"
        },
        "id": "zMpOwh-Y2tmG",
        "outputId": "a75d1777-efe4-4f8d-80b9-32328aa11751"
      },
      "source": [
        "for i in range(5,10):\r\n",
        "    print(i, i+1, sep='-', end='***')"
      ],
      "execution_count": 30,
      "outputs": [
        {
          "output_type": "stream",
          "text": [
            "5-6***6-7***7-8***8-9***9-10***"
          ],
          "name": "stdout"
        }
      ]
    },
    {
      "cell_type": "code",
      "metadata": {
        "colab": {
          "base_uri": "https://localhost:8080/",
          "height": 35
        },
        "id": "ryCaBWTx21f5",
        "outputId": "dc782a38-8272-4ac2-b955-256cf2ec9c34"
      },
      "source": [
        "'{} + {} = {}'.format(1, 2, 3)"
      ],
      "execution_count": 32,
      "outputs": [
        {
          "output_type": "execute_result",
          "data": {
            "application/vnd.google.colaboratory.intrinsic+json": {
              "type": "string"
            },
            "text/plain": [
              "'1 + 2 = 3'"
            ]
          },
          "metadata": {
            "tags": []
          },
          "execution_count": 32
        }
      ]
    },
    {
      "cell_type": "code",
      "metadata": {
        "colab": {
          "base_uri": "https://localhost:8080/"
        },
        "id": "RNuznMpR3AdH",
        "outputId": "687d2d70-b384-4493-bd6b-871bf463bfae"
      },
      "source": [
        "for letra in list('abcdefg'):\r\n",
        "    print(letra)"
      ],
      "execution_count": 34,
      "outputs": [
        {
          "output_type": "stream",
          "text": [
            "a\n",
            "b\n",
            "c\n",
            "d\n",
            "e\n",
            "f\n",
            "g\n"
          ],
          "name": "stdout"
        }
      ]
    },
    {
      "cell_type": "code",
      "metadata": {
        "colab": {
          "base_uri": "https://localhost:8080/"
        },
        "id": "SsNNC2YL3MY8",
        "outputId": "e15f3dba-6797-4d7b-8f7a-cbb4c6c34d24"
      },
      "source": [
        "for letra in enumerate('abcdefg'):\r\n",
        "    print(letra)\r\n",
        "    #imprime la tupla de posición y el elemento"
      ],
      "execution_count": 37,
      "outputs": [
        {
          "output_type": "stream",
          "text": [
            "(0, 'a')\n",
            "(1, 'b')\n",
            "(2, 'c')\n",
            "(3, 'd')\n",
            "(4, 'e')\n",
            "(5, 'f')\n",
            "(6, 'g')\n"
          ],
          "name": "stdout"
        }
      ]
    },
    {
      "cell_type": "code",
      "metadata": {
        "colab": {
          "base_uri": "https://localhost:8080/"
        },
        "id": "b2jxPOVj3SqY",
        "outputId": "3983a9a3-1935-4354-b554-6bfd13d570b5"
      },
      "source": [
        "for e in enumerate('abcdefg'):\r\n",
        "    pos , letra = e\r\n",
        "    print(pos, letra)"
      ],
      "execution_count": 38,
      "outputs": [
        {
          "output_type": "stream",
          "text": [
            "0 a\n",
            "1 b\n",
            "2 c\n",
            "3 d\n",
            "4 e\n",
            "5 f\n",
            "6 g\n"
          ],
          "name": "stdout"
        }
      ]
    },
    {
      "cell_type": "code",
      "metadata": {
        "colab": {
          "base_uri": "https://localhost:8080/"
        },
        "id": "PAtcnI6L3lsL",
        "outputId": "b3c75783-6aca-4db7-97e4-2d819a2e3945"
      },
      "source": [
        "for pos,letra in enumerate('abcdefg'):\r\n",
        "    print(pos, letra)"
      ],
      "execution_count": 40,
      "outputs": [
        {
          "output_type": "stream",
          "text": [
            "0 a\n",
            "1 b\n",
            "2 c\n",
            "3 d\n",
            "4 e\n",
            "5 f\n",
            "6 g\n"
          ],
          "name": "stdout"
        }
      ]
    },
    {
      "cell_type": "code",
      "metadata": {
        "colab": {
          "base_uri": "https://localhost:8080/"
        },
        "id": "X--g_gN73u2r",
        "outputId": "4a311a6b-4894-48b1-8d75-768179b1b111"
      },
      "source": [
        "for pos,_ in enumerate(list('abcdefg')):\r\n",
        "    print(pos)"
      ],
      "execution_count": 43,
      "outputs": [
        {
          "output_type": "stream",
          "text": [
            "0\n",
            "1\n",
            "2\n",
            "3\n",
            "4\n",
            "5\n",
            "6\n"
          ],
          "name": "stdout"
        }
      ]
    },
    {
      "cell_type": "code",
      "metadata": {
        "colab": {
          "base_uri": "https://localhost:8080/"
        },
        "id": "nscbRq7w31R-",
        "outputId": "9eb157fb-dba4-4ac6-a4ba-7f5a0f9edb13"
      },
      "source": [
        "for i in range (1,10):\r\n",
        "    if i < 4:\r\n",
        "        continue\r\n",
        "    print(i)\r\n",
        "    if i >6:\r\n",
        "          break\r\n"
      ],
      "execution_count": 46,
      "outputs": [
        {
          "output_type": "stream",
          "text": [
            "4\n",
            "5\n",
            "6\n",
            "7\n"
          ],
          "name": "stdout"
        }
      ]
    },
    {
      "cell_type": "code",
      "metadata": {
        "colab": {
          "base_uri": "https://localhost:8080/"
        },
        "id": "MojJJSWK4adW",
        "outputId": "f3bc12bb-6551-409f-ef07-92a30c734e7c"
      },
      "source": [
        "n = 0\r\n",
        "while n < 5:\r\n",
        "    print(n)\r\n",
        "    n = n + 1\r\n",
        "\r\n",
        "print('fin')"
      ],
      "execution_count": 50,
      "outputs": [
        {
          "output_type": "stream",
          "text": [
            "0\n",
            "1\n",
            "2\n",
            "3\n",
            "4\n",
            "fin\n"
          ],
          "name": "stdout"
        }
      ]
    },
    {
      "cell_type": "code",
      "metadata": {
        "colab": {
          "base_uri": "https://localhost:8080/"
        },
        "id": "znpRe2KP5ck4",
        "outputId": "3ae75cdb-59a0-43fe-e6f3-3fe8ce925cc4"
      },
      "source": [
        "def fib(n):\r\n",
        "    \"\"\"Imprime los terminos de la secuencia menores a n\"\"\"\r\n",
        "    a, b = 0, 1\r\n",
        "    while a < n:\r\n",
        "        print(a)\r\n",
        "        a, b = b, a + b\r\n",
        "\r\n",
        "fib(10)\r\n"
      ],
      "execution_count": 56,
      "outputs": [
        {
          "output_type": "stream",
          "text": [
            "0\n",
            "1\n",
            "1\n",
            "2\n",
            "3\n",
            "5\n",
            "8\n"
          ],
          "name": "stdout"
        }
      ]
    },
    {
      "cell_type": "code",
      "metadata": {
        "colab": {
          "base_uri": "https://localhost:8080/"
        },
        "id": "_SX2l7ZI69zl",
        "outputId": "d5fe7b2e-2458-4f20-892f-b331fb20bcbb"
      },
      "source": [
        "help(fib)"
      ],
      "execution_count": 57,
      "outputs": [
        {
          "output_type": "stream",
          "text": [
            "Help on function fib in module __main__:\n",
            "\n",
            "fib(n)\n",
            "    Imprime los terminos de la secuencia menores a n\n",
            "\n"
          ],
          "name": "stdout"
        }
      ]
    },
    {
      "cell_type": "code",
      "metadata": {
        "colab": {
          "base_uri": "https://localhost:8080/"
        },
        "id": "hw51XW5T7kT0",
        "outputId": "cbf564cd-f788-4c13-d1b7-f8161c1bba59"
      },
      "source": [
        "f = fib\r\n",
        "f(10)"
      ],
      "execution_count": 59,
      "outputs": [
        {
          "output_type": "stream",
          "text": [
            "0\n",
            "1\n",
            "1\n",
            "2\n",
            "3\n",
            "5\n",
            "8\n"
          ],
          "name": "stdout"
        }
      ]
    },
    {
      "cell_type": "code",
      "metadata": {
        "colab": {
          "base_uri": "https://localhost:8080/"
        },
        "id": "1CCQ9kZI7pbD",
        "outputId": "71594514-dff9-47bc-b95c-08aac4a014c9"
      },
      "source": [
        "def fib2(n):\r\n",
        "    \"\"\"Retorna una lista con la secuencia\"\"\"\r\n",
        "    result = []\r\n",
        "    a, b = 0, 1\r\n",
        "    while a < n:\r\n",
        "        result.append(a)\r\n",
        "        a, b = b, a + b\r\n",
        "\r\n",
        "    return result\r\n",
        "\r\n",
        "fib2(20)"
      ],
      "execution_count": 62,
      "outputs": [
        {
          "output_type": "execute_result",
          "data": {
            "text/plain": [
              "[0, 1, 1, 2, 3, 5, 8, 13]"
            ]
          },
          "metadata": {
            "tags": []
          },
          "execution_count": 62
        }
      ]
    },
    {
      "cell_type": "code",
      "metadata": {
        "colab": {
          "base_uri": "https://localhost:8080/"
        },
        "id": "nNAfykep8Um1",
        "outputId": "45e0dcde-f673-4728-fffd-86930c510ce5"
      },
      "source": [
        "def f(a, L):\r\n",
        "    L.append(a)\r\n",
        "    return L\r\n",
        "\r\n",
        "\r\n",
        "M = []\r\n",
        "print(f(1, M))\r\n",
        "print(f(2, M))\r\n",
        "print(f(3, M))"
      ],
      "execution_count": 66,
      "outputs": [
        {
          "output_type": "stream",
          "text": [
            "[1]\n",
            "[1, 2]\n",
            "[1, 2, 3]\n"
          ],
          "name": "stdout"
        }
      ]
    },
    {
      "cell_type": "code",
      "metadata": {
        "id": "J7kMrO1y-RRZ"
      },
      "source": [
        ""
      ],
      "execution_count": null,
      "outputs": []
    },
    {
      "cell_type": "code",
      "metadata": {
        "colab": {
          "base_uri": "https://localhost:8080/"
        },
        "id": "PpkzSvUn80ph",
        "outputId": "c90c5288-fa0d-4327-f67e-dbb1cba506d9"
      },
      "source": [
        "def suma(a, b=10):\r\n",
        "    return a + b\r\n",
        "\r\n",
        "suma(1)"
      ],
      "execution_count": 71,
      "outputs": [
        {
          "output_type": "execute_result",
          "data": {
            "text/plain": [
              "11"
            ]
          },
          "metadata": {
            "tags": []
          },
          "execution_count": 71
        }
      ]
    },
    {
      "cell_type": "code",
      "metadata": {
        "colab": {
          "base_uri": "https://localhost:8080/"
        },
        "id": "6ppH4sny9CuP",
        "outputId": "a7dd1141-f602-45dd-b190-59785688289b"
      },
      "source": [
        "def suma(a=100, b=10):\r\n",
        "    return a + b\r\n",
        "\r\n",
        "suma()"
      ],
      "execution_count": 72,
      "outputs": [
        {
          "output_type": "execute_result",
          "data": {
            "text/plain": [
              "110"
            ]
          },
          "metadata": {
            "tags": []
          },
          "execution_count": 72
        }
      ]
    },
    {
      "cell_type": "code",
      "metadata": {
        "colab": {
          "base_uri": "https://localhost:8080/"
        },
        "id": "LAtd7sbA9GuQ",
        "outputId": "d229e1e0-d8e8-41a3-db6b-dd31b3a10101"
      },
      "source": [
        "def suma(a, b=10):\r\n",
        "    return a + b\r\n",
        "\r\n",
        "suma(1)"
      ],
      "execution_count": 73,
      "outputs": [
        {
          "output_type": "execute_result",
          "data": {
            "text/plain": [
              "11"
            ]
          },
          "metadata": {
            "tags": []
          },
          "execution_count": 73
        }
      ]
    },
    {
      "cell_type": "code",
      "metadata": {
        "colab": {
          "base_uri": "https://localhost:8080/"
        },
        "id": "8921pY3o9vAF",
        "outputId": "b7a0a012-2bbc-4b9b-d2f2-4369b8f259b4"
      },
      "source": [
        "suma(1)"
      ],
      "execution_count": 75,
      "outputs": [
        {
          "output_type": "execute_result",
          "data": {
            "text/plain": [
              "11"
            ]
          },
          "metadata": {
            "tags": []
          },
          "execution_count": 75
        }
      ]
    },
    {
      "cell_type": "code",
      "metadata": {
        "colab": {
          "base_uri": "https://localhost:8080/"
        },
        "id": "-fcM1I19-SIL",
        "outputId": "3028da68-6c03-478d-f9db-933a83216188"
      },
      "source": [
        "def f(a, L=[]):\r\n",
        "    L.append(a)\r\n",
        "    return L\r\n",
        "\r\n",
        "\r\n",
        "print(f(1))\r\n",
        "print(f(2))\r\n",
        "print(f(3))"
      ],
      "execution_count": 78,
      "outputs": [
        {
          "output_type": "stream",
          "text": [
            "[1]\n",
            "[1, 2]\n",
            "[1, 2, 3]\n"
          ],
          "name": "stdout"
        }
      ]
    },
    {
      "cell_type": "code",
      "metadata": {
        "colab": {
          "base_uri": "https://localhost:8080/"
        },
        "id": "khGj-a8x-wBx",
        "outputId": "388a2f6f-7d14-4f10-e84d-525794c7d1dc"
      },
      "source": [
        "def f(a, L=None):\r\n",
        "    if L is None:\r\n",
        "      L = []\r\n",
        "    L.append(a)\r\n",
        "    return L\r\n",
        "\r\n",
        "\r\n",
        "print(f(1))\r\n",
        "print(f(2))\r\n",
        "print(f(3))"
      ],
      "execution_count": 79,
      "outputs": [
        {
          "output_type": "stream",
          "text": [
            "[1]\n",
            "[2]\n",
            "[3]\n"
          ],
          "name": "stdout"
        }
      ]
    },
    {
      "cell_type": "code",
      "metadata": {
        "colab": {
          "base_uri": "https://localhost:8080/"
        },
        "id": "ZHbwaSr2-2Gu",
        "outputId": "7fc45f74-bab3-4e85-c9c9-925693377e4c"
      },
      "source": [
        "def f(*args):\r\n",
        "    print(args)\r\n",
        "\r\n",
        "f(1, 2, 3)"
      ],
      "execution_count": 80,
      "outputs": [
        {
          "output_type": "stream",
          "text": [
            "(1, 2, 3)\n"
          ],
          "name": "stdout"
        }
      ]
    },
    {
      "cell_type": "code",
      "metadata": {
        "colab": {
          "base_uri": "https://localhost:8080/"
        },
        "id": "prZJ19K2_Dty",
        "outputId": "f9917209-9ad7-477c-c1e1-10fd2c8fe010"
      },
      "source": [
        "def f(a, *b, c='hola'):\r\n",
        "    print(a)\r\n",
        "    print(b)\r\n",
        "    print(c)\r\n",
        "\r\n",
        "f(1, 2, 3, 4, 5)"
      ],
      "execution_count": 81,
      "outputs": [
        {
          "output_type": "stream",
          "text": [
            "1\n",
            "(2, 3, 4, 5)\n",
            "hola\n"
          ],
          "name": "stdout"
        }
      ]
    },
    {
      "cell_type": "code",
      "metadata": {
        "colab": {
          "base_uri": "https://localhost:8080/"
        },
        "id": "oBUnx1mHAFZe",
        "outputId": "97531502-8a06-4adc-90a5-2e05b3a24059"
      },
      "source": [
        "def f(a, *b, c='hola'):\r\n",
        "    print(a)\r\n",
        "    print(b)\r\n",
        "    print(c)\r\n",
        "\r\n",
        "f(1, 2, 3, 4, c=5)"
      ],
      "execution_count": 82,
      "outputs": [
        {
          "output_type": "stream",
          "text": [
            "1\n",
            "(2, 3, 4)\n",
            "5\n"
          ],
          "name": "stdout"
        }
      ]
    },
    {
      "cell_type": "code",
      "metadata": {
        "colab": {
          "base_uri": "https://localhost:8080/"
        },
        "id": "B3GURNmYAcFV",
        "outputId": "605ce1c0-c23e-4964-ce59-b2008d41c2f3"
      },
      "source": [
        "def incr(x):\r\n",
        "    return x + 1\r\n",
        "\r\n",
        "incr(10)"
      ],
      "execution_count": 84,
      "outputs": [
        {
          "output_type": "execute_result",
          "data": {
            "text/plain": [
              "11"
            ]
          },
          "metadata": {
            "tags": []
          },
          "execution_count": 84
        }
      ]
    },
    {
      "cell_type": "code",
      "metadata": {
        "colab": {
          "base_uri": "https://localhost:8080/"
        },
        "id": "ps1yFsjjBDhC",
        "outputId": "2e69b46b-735d-4771-9cce-c18a629811a6"
      },
      "source": [
        "incr = lambda u: u + 1\r\n",
        "\r\n",
        "incr(10)"
      ],
      "execution_count": 86,
      "outputs": [
        {
          "output_type": "execute_result",
          "data": {
            "text/plain": [
              "11"
            ]
          },
          "metadata": {
            "tags": []
          },
          "execution_count": 86
        }
      ]
    },
    {
      "cell_type": "code",
      "metadata": {
        "colab": {
          "base_uri": "https://localhost:8080/"
        },
        "id": "DD0p22KSBQgG",
        "outputId": "58edba53-146e-4068-96f5-9d7b56b91357"
      },
      "source": [
        "def f(x, g):\r\n",
        "    return g(x)\r\n",
        "\r\n",
        "def square(u):\r\n",
        "    return u**2\r\n",
        "\r\n",
        "f(x=2, g=square)"
      ],
      "execution_count": 90,
      "outputs": [
        {
          "output_type": "execute_result",
          "data": {
            "text/plain": [
              "4"
            ]
          },
          "metadata": {
            "tags": []
          },
          "execution_count": 90
        }
      ]
    },
    {
      "cell_type": "code",
      "metadata": {
        "colab": {
          "base_uri": "https://localhost:8080/"
        },
        "id": "QhDf69NxBv1j",
        "outputId": "5a9c1748-5db4-47de-8677-5b0f5eb89e5d"
      },
      "source": [
        "f(x=2, g=lambda u: u**3)"
      ],
      "execution_count": 92,
      "outputs": [
        {
          "output_type": "execute_result",
          "data": {
            "text/plain": [
              "8"
            ]
          },
          "metadata": {
            "tags": []
          },
          "execution_count": 92
        }
      ]
    },
    {
      "cell_type": "code",
      "metadata": {
        "id": "vzy-gophB5dC"
      },
      "source": [
        "def f(n):\r\n",
        "    pass"
      ],
      "execution_count": 94,
      "outputs": []
    },
    {
      "cell_type": "code",
      "metadata": {
        "id": "KZ-S9XOHCdEt"
      },
      "source": [
        "x = 10 \r\n",
        "if x > 0:\r\n",
        "    pass\r\n",
        "else: \r\n",
        "  print('hola')"
      ],
      "execution_count": 100,
      "outputs": []
    },
    {
      "cell_type": "code",
      "metadata": {
        "id": "LJZj_3UFCzBI"
      },
      "source": [
        ""
      ],
      "execution_count": null,
      "outputs": []
    }
  ]
}